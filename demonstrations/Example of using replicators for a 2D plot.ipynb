{
 "cells": [
  {
   "cell_type": "code",
   "execution_count": 10,
   "metadata": {},
   "outputs": [],
   "source": [
    "import replicator"
   ]
  },
  {
   "cell_type": "code",
   "execution_count": 11,
   "metadata": {},
   "outputs": [],
   "source": [
    "import numpy as np"
   ]
  },
  {
   "cell_type": "code",
   "execution_count": 12,
   "metadata": {},
   "outputs": [],
   "source": [
    "payoff_mat = np.array([[0, -1, 1], [1, 0, -1], [-1, 1, 0]])\n",
    "labels = [\"Rock\", \"Paper\", \"Scissors\"]"
   ]
  },
  {
   "cell_type": "code",
   "execution_count": 13,
   "metadata": {},
   "outputs": [],
   "source": [
    "time = np.linspace(0, 6, 100)"
   ]
  },
  {
   "cell_type": "code",
   "execution_count": 14,
   "metadata": {},
   "outputs": [
    {
     "data": {
      "image/png": "[encoded data removed]",
      "text/plain": [
       "<Figure size 360x360 with 1 Axes>"
      ]
     },
     "metadata": {},
     "output_type": "display_data"
    }
   ],
   "source": [
    "plot, info = replicator.plot2D(\n",
    "    payoff_mat,\n",
    "    labels,\n",
    "    time,\n",
    ");"
   ]
  },
  {
   "cell_type": "code",
   "execution_count": 37,
   "metadata": {},
   "outputs": [],
   "source": [
    "import sympy as sym\n",
    "\n",
    "size = 3\n",
    "\n",
    "xs = np.array(sym.symbols(f\"x_1:{size + 1}\"))\n",
    "\n",
    "solutions = np.array(replicator.fixed_points(xs, payoff_mat))\n",
    "\n",
    "solutions = np.array([s for s in solutions if xs not in s])\n",
    "\n",
    "solutions = solutions[~np.any(solutions < 0, axis=1)]\n",
    "solutions = solutions[~np.any(solutions > 1, axis=1)]\n",
    "solutions = [[float(s) for s in solution] for solution in solutions]"
   ]
  },
  {
   "cell_type": "code",
   "execution_count": 38,
   "metadata": {},
   "outputs": [
    {
     "data": {
      "text/plain": [
       "[[0.0, 0.0, 1.0],\n",
       " [0.0, 1.0, 0.0],\n",
       " [0.3333333333333333, 0.3333333333333333, 0.3333333333333333],\n",
       " [1.0, 0.0, 0.0]]"
      ]
     },
     "execution_count": 38,
     "metadata": {},
     "output_type": "execute_result"
    }
   ],
   "source": [
    "solutions"
   ]
  },
  {
   "cell_type": "code",
   "execution_count": 39,
   "metadata": {},
   "outputs": [],
   "source": [
    "J = replicator.jacobian(xs, payoff_mat)"
   ]
  },
  {
   "cell_type": "code",
   "execution_count": 40,
   "metadata": {},
   "outputs": [
    {
     "data": {
      "text/plain": [
       "'saddle'"
      ]
     },
     "execution_count": 40,
     "metadata": {},
     "output_type": "execute_result"
    }
   ],
   "source": [
    "replicator.point_is(J, xs, solutions[2])"
   ]
  },
  {
   "cell_type": "code",
   "execution_count": 41,
   "metadata": {},
   "outputs": [],
   "source": [
    "eigen_values = J.subs(\n",
    "    {x: s for x, s in zip(xs, solutions[2])}\n",
    ").eigenvals()"
   ]
  },
  {
   "cell_type": "code",
   "execution_count": 42,
   "metadata": {},
   "outputs": [
    {
     "data": {
      "text/plain": [
       "{0.166666666666667 - 0.440958551844098*I: 1,\n",
       " -9.25185853854297e-18 - 1.38720553200621e-65*I: 1,\n",
       " 0.166666666666667 + 0.440958551844098*I: 1}"
      ]
     },
     "execution_count": 42,
     "metadata": {},
     "output_type": "execute_result"
    }
   ],
   "source": [
    "eigen_values"
   ]
  },
  {
   "cell_type": "code",
   "execution_count": null,
   "metadata": {},
   "outputs": [],
   "source": [
    "\n",
    "    \n",
    "    eigen_values = np.array(\n",
    "        [float(val.subs({sym.I: 0})) for val in list(eigen_values.keys())]\n",
    "    )\n",
    "    if 1 in solution:\n",
    "        mask = np.ones(eigen_values.shape, bool)\n",
    "        mask[np.where(np.isclose(solution, 1))] = False\n",
    "        eigen_values = eigen_values[mask]\n",
    "\n",
    "    if (eigen_values < 0).all():\n",
    "        return \"sink\"\n",
    "    if (eigen_values > 0).all():\n",
    "        return \"source\"\n",
    "    else:\n",
    "        return \"saddle\""
   ]
  },
  {
   "cell_type": "code",
   "execution_count": null,
   "metadata": {},
   "outputs": [],
   "source": []
  },
  {
   "cell_type": "code",
   "execution_count": null,
   "metadata": {},
   "outputs": [],
   "source": []
  },
  {
   "cell_type": "code",
   "execution_count": null,
   "metadata": {},
   "outputs": [],
   "source": []
  },
  {
   "cell_type": "code",
   "execution_count": null,
   "metadata": {},
   "outputs": [],
   "source": []
  },
  {
   "cell_type": "code",
   "execution_count": 16,
   "metadata": {},
   "outputs": [],
   "source": [
    "payoff_mat = np.array([[1, -1, 0], [1, 0, -1], [-1, 1, 0]])\n",
    "labels = [\"Rock\", \"Paper\", \"Scissors\"]"
   ]
  },
  {
   "cell_type": "code",
   "execution_count": 17,
   "metadata": {
    "scrolled": false
   },
   "outputs": [
    {
     "ename": "IndexError",
     "evalue": "index 2 is out of bounds for axis 0 with size 2",
     "output_type": "error",
     "traceback": [
      "\u001b[0;31m---------------------------------------------------------------------------\u001b[0m",
      "\u001b[0;31mIndexError\u001b[0m                                Traceback (most recent call last)",
      "Input \u001b[0;32mIn [17]\u001b[0m, in \u001b[0;36m<module>\u001b[0;34m\u001b[0m\n\u001b[0;32m----> 1\u001b[0m plot, info \u001b[38;5;241m=\u001b[39m \u001b[43mreplicator\u001b[49m\u001b[38;5;241;43m.\u001b[39;49m\u001b[43mplot2D\u001b[49m\u001b[43m(\u001b[49m\n\u001b[1;32m      2\u001b[0m \u001b[43m    \u001b[49m\u001b[43mpayoff_mat\u001b[49m\u001b[43m,\u001b[49m\n\u001b[1;32m      3\u001b[0m \u001b[43m    \u001b[49m\u001b[43mlabels\u001b[49m\u001b[43m,\u001b[49m\n\u001b[1;32m      4\u001b[0m \u001b[43m    \u001b[49m\u001b[43mtime\u001b[49m\u001b[43m,\u001b[49m\n\u001b[1;32m      5\u001b[0m \u001b[43m)\u001b[49m\n",
      "File \u001b[0;32m~/rsc/replicator/src/replicator/plotting.py:120\u001b[0m, in \u001b[0;36mplot2D\u001b[0;34m(payoff_mat, labels, time, num_of_edge_ics, num_x_points_simplex, num_y_edge_points_simplex, ax)\u001b[0m\n\u001b[1;32m    118\u001b[0m point_types \u001b[38;5;241m=\u001b[39m []\n\u001b[1;32m    119\u001b[0m \u001b[38;5;28;01mfor\u001b[39;00m solution \u001b[38;5;129;01min\u001b[39;00m solutions:\n\u001b[0;32m--> 120\u001b[0m     point_type \u001b[38;5;241m=\u001b[39m \u001b[43mpoint_is\u001b[49m\u001b[43m(\u001b[49m\u001b[43mJ\u001b[49m\u001b[43m,\u001b[49m\u001b[43m \u001b[49m\u001b[43mxs\u001b[49m\u001b[43m,\u001b[49m\u001b[43m \u001b[49m\u001b[43msolution\u001b[49m\u001b[43m)\u001b[49m\n\u001b[1;32m    121\u001b[0m     colour \u001b[38;5;241m=\u001b[39m colours[point_type]\n\u001b[1;32m    122\u001b[0m     point_types\u001b[38;5;241m.\u001b[39mappend((solution, point_type))\n",
      "File \u001b[0;32m~/rsc/replicator/src/replicator/solver.py:79\u001b[0m, in \u001b[0;36mpoint_is\u001b[0;34m(jacobian, xs, solution)\u001b[0m\n\u001b[1;32m     77\u001b[0m \u001b[38;5;28;01mif\u001b[39;00m \u001b[38;5;241m1\u001b[39m \u001b[38;5;129;01min\u001b[39;00m solution:\n\u001b[1;32m     78\u001b[0m     mask \u001b[38;5;241m=\u001b[39m np\u001b[38;5;241m.\u001b[39mones(eigen_values\u001b[38;5;241m.\u001b[39mshape, \u001b[38;5;28mbool\u001b[39m)\n\u001b[0;32m---> 79\u001b[0m     mask[np\u001b[38;5;241m.\u001b[39mwhere(np\u001b[38;5;241m.\u001b[39misclose(solution, \u001b[38;5;241m1\u001b[39m))] \u001b[38;5;241m=\u001b[39m \u001b[38;5;28;01mFalse\u001b[39;00m\n\u001b[1;32m     80\u001b[0m     eigen_values \u001b[38;5;241m=\u001b[39m eigen_values[mask]\n\u001b[1;32m     82\u001b[0m \u001b[38;5;28;01mif\u001b[39;00m (eigen_values \u001b[38;5;241m<\u001b[39m \u001b[38;5;241m0\u001b[39m)\u001b[38;5;241m.\u001b[39mall():\n",
      "\u001b[0;31mIndexError\u001b[0m: index 2 is out of bounds for axis 0 with size 2"
     ]
    },
    {
     "data": {
      "image/png": "[encoded data removed]",
      "text/plain": [
       "<Figure size 360x360 with 1 Axes>"
      ]
     },
     "metadata": {
      "needs_background": "light"
     },
     "output_type": "display_data"
    }
   ],
   "source": [
    "plot, info = replicator.plot2D(\n",
    "    payoff_mat,\n",
    "    labels,\n",
    "    time,\n",
    ");"
   ]
  },
  {
   "cell_type": "code",
   "execution_count": 18,
   "metadata": {},
   "outputs": [
    {
     "data": {
      "text/plain": [
       "['There are a total of 4 fixed points.',\n",
       " '[0.0, 0.0, 1.0] is a saddle point.',\n",
       " '[0.0, 1.0, 0.0] is a saddle point.',\n",
       " '[0.3333333333333333, 0.3333333333333333, 0.3333333333333333] is a source point.',\n",
       " '[1.0, 0.0, 0.0] is a saddle point.']"
      ]
     },
     "execution_count": 18,
     "metadata": {},
     "output_type": "execute_result"
    }
   ],
   "source": [
    "info"
   ]
  },
  {
   "cell_type": "code",
   "execution_count": 19,
   "metadata": {},
   "outputs": [],
   "source": [
    "import matplotlib.pyplot as plt"
   ]
  },
  {
   "cell_type": "code",
   "execution_count": 20,
   "metadata": {},
   "outputs": [
    {
     "ename": "IndexError",
     "evalue": "index 2 is out of bounds for axis 0 with size 2",
     "output_type": "error",
     "traceback": [
      "\u001b[0;31m---------------------------------------------------------------------------\u001b[0m",
      "\u001b[0;31mIndexError\u001b[0m                                Traceback (most recent call last)",
      "Input \u001b[0;32mIn [20]\u001b[0m, in \u001b[0;36m<module>\u001b[0;34m\u001b[0m\n\u001b[1;32m      1\u001b[0m fig, ax \u001b[38;5;241m=\u001b[39m plt\u001b[38;5;241m.\u001b[39msubplots(ncols\u001b[38;5;241m=\u001b[39m\u001b[38;5;241m2\u001b[39m, figsize\u001b[38;5;241m=\u001b[39m(\u001b[38;5;241m7.5\u001b[39m, \u001b[38;5;241m7.5\u001b[39m))\n\u001b[0;32m----> 3\u001b[0m plot, info \u001b[38;5;241m=\u001b[39m \u001b[43mreplicator\u001b[49m\u001b[38;5;241;43m.\u001b[39;49m\u001b[43mplot2D\u001b[49m\u001b[43m(\u001b[49m\n\u001b[1;32m      4\u001b[0m \u001b[43m    \u001b[49m\u001b[43mpayoff_mat\u001b[49m\u001b[43m,\u001b[49m\n\u001b[1;32m      5\u001b[0m \u001b[43m    \u001b[49m\u001b[43mlabels\u001b[49m\u001b[43m,\u001b[49m\n\u001b[1;32m      6\u001b[0m \u001b[43m    \u001b[49m\u001b[43mtime\u001b[49m\u001b[43m,\u001b[49m\n\u001b[1;32m      7\u001b[0m \u001b[43m    \u001b[49m\u001b[43max\u001b[49m\u001b[38;5;241;43m=\u001b[39;49m\u001b[43max\u001b[49m\u001b[43m[\u001b[49m\u001b[38;5;241;43m0\u001b[39;49m\u001b[43m]\u001b[49m\n\u001b[1;32m      8\u001b[0m \u001b[43m)\u001b[49m;\n\u001b[1;32m     10\u001b[0m plot, info \u001b[38;5;241m=\u001b[39m replicator\u001b[38;5;241m.\u001b[39mplot2D(\n\u001b[1;32m     11\u001b[0m     payoff_mat,\n\u001b[1;32m     12\u001b[0m     labels,\n\u001b[1;32m     13\u001b[0m     time,\n\u001b[1;32m     14\u001b[0m     ax\u001b[38;5;241m=\u001b[39max[\u001b[38;5;241m1\u001b[39m]\n\u001b[1;32m     15\u001b[0m );\n\u001b[1;32m     17\u001b[0m plt\u001b[38;5;241m.\u001b[39mtight_layout()\n",
      "File \u001b[0;32m~/rsc/replicator/src/replicator/plotting.py:120\u001b[0m, in \u001b[0;36mplot2D\u001b[0;34m(payoff_mat, labels, time, num_of_edge_ics, num_x_points_simplex, num_y_edge_points_simplex, ax)\u001b[0m\n\u001b[1;32m    118\u001b[0m point_types \u001b[38;5;241m=\u001b[39m []\n\u001b[1;32m    119\u001b[0m \u001b[38;5;28;01mfor\u001b[39;00m solution \u001b[38;5;129;01min\u001b[39;00m solutions:\n\u001b[0;32m--> 120\u001b[0m     point_type \u001b[38;5;241m=\u001b[39m \u001b[43mpoint_is\u001b[49m\u001b[43m(\u001b[49m\u001b[43mJ\u001b[49m\u001b[43m,\u001b[49m\u001b[43m \u001b[49m\u001b[43mxs\u001b[49m\u001b[43m,\u001b[49m\u001b[43m \u001b[49m\u001b[43msolution\u001b[49m\u001b[43m)\u001b[49m\n\u001b[1;32m    121\u001b[0m     colour \u001b[38;5;241m=\u001b[39m colours[point_type]\n\u001b[1;32m    122\u001b[0m     point_types\u001b[38;5;241m.\u001b[39mappend((solution, point_type))\n",
      "File \u001b[0;32m~/rsc/replicator/src/replicator/solver.py:79\u001b[0m, in \u001b[0;36mpoint_is\u001b[0;34m(jacobian, xs, solution)\u001b[0m\n\u001b[1;32m     77\u001b[0m \u001b[38;5;28;01mif\u001b[39;00m \u001b[38;5;241m1\u001b[39m \u001b[38;5;129;01min\u001b[39;00m solution:\n\u001b[1;32m     78\u001b[0m     mask \u001b[38;5;241m=\u001b[39m np\u001b[38;5;241m.\u001b[39mones(eigen_values\u001b[38;5;241m.\u001b[39mshape, \u001b[38;5;28mbool\u001b[39m)\n\u001b[0;32m---> 79\u001b[0m     mask[np\u001b[38;5;241m.\u001b[39mwhere(np\u001b[38;5;241m.\u001b[39misclose(solution, \u001b[38;5;241m1\u001b[39m))] \u001b[38;5;241m=\u001b[39m \u001b[38;5;28;01mFalse\u001b[39;00m\n\u001b[1;32m     80\u001b[0m     eigen_values \u001b[38;5;241m=\u001b[39m eigen_values[mask]\n\u001b[1;32m     82\u001b[0m \u001b[38;5;28;01mif\u001b[39;00m (eigen_values \u001b[38;5;241m<\u001b[39m \u001b[38;5;241m0\u001b[39m)\u001b[38;5;241m.\u001b[39mall():\n",
      "\u001b[0;31mIndexError\u001b[0m: index 2 is out of bounds for axis 0 with size 2"
     ]
    },
    {
     "data": {
      "image/png": "[encoded data removed]",
      "text/plain": [
       "<Figure size 540x540 with 2 Axes>"
      ]
     },
     "metadata": {
      "needs_background": "light"
     },
     "output_type": "display_data"
    }
   ],
   "source": [
    "fig, ax = plt.subplots(ncols=2, figsize=(7.5, 7.5))\n",
    "\n",
    "plot, info = replicator.plot2D(\n",
    "    payoff_mat,\n",
    "    labels,\n",
    "    time,\n",
    "    ax=ax[0]\n",
    ");\n",
    "\n",
    "plot, info = replicator.plot2D(\n",
    "    payoff_mat,\n",
    "    labels,\n",
    "    time,\n",
    "    ax=ax[1]\n",
    ");\n",
    "\n",
    "plt.tight_layout()"
   ]
  },
  {
   "cell_type": "code",
   "execution_count": null,
   "metadata": {},
   "outputs": [],
   "source": []
  }
 ],
 "metadata": {
  "kernelspec": {
   "display_name": "replicator",
   "language": "python",
   "name": "replicator"
  },
  "language_info": {
   "codemirror_mode": {
    "name": "ipython",
    "version": 3
   },
   "file_extension": ".py",
   "mimetype": "text/x-python",
   "name": "python",
   "nbconvert_exporter": "python",
   "pygments_lexer": "ipython3",
   "version": "3.8.12"
  }
 },
 "nbformat": 4,
 "nbformat_minor": 4
}
